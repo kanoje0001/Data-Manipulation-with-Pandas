{
 "cells": [
  {
   "cell_type": "code",
   "execution_count": 5,
   "id": "575017b5",
   "metadata": {},
   "outputs": [
    {
     "name": "stdout",
     "output_type": "stream",
     "text": [
      "             Model Name  Gear  Cylinder\n",
      "0               Valiant     3         6\n",
      "1            Duster 360     3         8\n",
      "2             Merc 2400     4         4\n",
      "3              merc 230     4         4\n",
      "4              Merc 280     5         6\n",
      "5             Merc 280C     4         6\n",
      "6            Merc 450SE     3         8\n",
      "7            Merc 450SL     3         8\n",
      "8           Merc 450SLC     3         8\n",
      "9    Cadillac Fleetwood     3         8\n",
      "10  Lincoln Continental     3         8\n",
      "11    Chrysler Imperial     3         8\n",
      "12          Honda Civic     4         4\n",
      "13       Toyota Corolla     4         4\n",
      "14             fiat 128     4         4\n",
      "[6 8 4]\n",
      "[3 4 5]\n"
     ]
    }
   ],
   "source": [
    "#importing pandas as pd\n",
    "import pandas as pd\n",
    "car_data={\"Model Name\":['Valiant',\n",
    "                        'Duster 360',\n",
    "                        'Merc 2400',\n",
    "                        \"merc 230\",\n",
    "                        \"Merc 280\",\n",
    "                        \"Merc 280C\",\n",
    "                        \"Merc 450SE\",\n",
    "                        \"Merc 450SL\",\n",
    "                        \"Merc 450SLC\",\n",
    "                        \"Cadillac Fleetwood\",\n",
    "                        \"Lincoln Continental\"\n",
    "                       ,\"Chrysler Imperial\",\n",
    "                        \"Honda Civic\",\n",
    "                        \"Toyota Corolla\",\n",
    "                        \"fiat 128\"] ,\n",
    "         'Gear':[3,3,4,4,5,4,3,3\n",
    "                ,3,3,3,3,4,4,4],\n",
    "         'Cylinder':[6,8,4,4,6,6,8,8,8,8,8,8,4,4,4]}\n",
    "\n",
    "car_df=pd.DataFrame(car_data)\n",
    "\n",
    "print(car_df)\n",
    "\n",
    "\n",
    "un_cyl=pd.unique(car_df.Cylinder)\n",
    "un_gear=pd.unique(car_df.Gear)\n",
    "print(un_cyl)\n",
    "print(un_gear)\n",
    "#print(\"Unique Values:\"car_df{'Gear'}.unique())"
   ]
  },
  {
   "cell_type": "code",
   "execution_count": 8,
   "id": "f8b85969",
   "metadata": {},
   "outputs": [
    {
     "name": "stdout",
     "output_type": "stream",
     "text": [
      "3    8\n",
      "4    6\n",
      "5    1\n",
      "Name: Gear, dtype: int64\n",
      "8    7\n",
      "4    5\n",
      "6    3\n",
      "Name: Cylinder, dtype: int64\n",
      "3    8\n",
      "4    6\n",
      "5    1\n",
      "Name: Gear, dtype: int64\n",
      "8    7\n",
      "4    5\n",
      "6    3\n",
      "Name: Cylinder, dtype: int64\n"
     ]
    }
   ],
   "source": [
    "G_count=pd.value_counts(car_df.Gear)\n",
    "print(G_count)\n",
    "C_count=pd.value_counts(car_df.Cylinder)\n",
    "print(C_count)\n",
    "\n",
    "\n",
    "#second way\n",
    "g_c=car_df['Gear'].value_counts()\n",
    "print(g_c)\n",
    "c_c=car_df['Cylinder'].value_counts()\n",
    "print(c_c)\n"
   ]
  },
  {
   "cell_type": "code",
   "execution_count": 11,
   "id": "589913d5",
   "metadata": {},
   "outputs": [
    {
     "name": "stdout",
     "output_type": "stream",
     "text": [
      "number of unique  values present in model Name : 15\n",
      "number of unique  values present in gear : 3\n",
      "number of unique  values present in cyl : 3\n"
     ]
    }
   ],
   "source": [
    "car_df=pd.DataFrame(car_data)\n",
    "\n",
    "name_count=pd.unique(car_df[\"Model Name\"])\n",
    "gear_count=pd.unique(car_df.Gear)\n",
    "cyl_count=pd.unique(car_df.Cylinder)\n",
    "\n",
    "\n",
    "name_unique=0\n",
    "gear_unique=0\n",
    "cyl_unique=0\n",
    "\n",
    "\n",
    "\n",
    "for item in name_count:\n",
    "    name_unique += 1\n",
    "    \n",
    "    \n",
    "for item in gear_count:\n",
    "    gear_unique += 1\n",
    "    \n",
    "    \n",
    "for item in cyl_count:\n",
    "    cyl_unique += 1    \n",
    "\n",
    "    \n",
    "print(f'number of unique  values present in model Name : {name_unique}')\n",
    "print(f'number of unique  values present in gear : {gear_unique}')\n",
    "print(f'number of unique  values present in cyl : {cyl_unique}')"
   ]
  },
  {
   "cell_type": "code",
   "execution_count": null,
   "id": "d751030b",
   "metadata": {},
   "outputs": [],
   "source": []
  }
 ],
 "metadata": {
  "kernelspec": {
   "display_name": "Python 3 (ipykernel)",
   "language": "python",
   "name": "python3"
  },
  "language_info": {
   "codemirror_mode": {
    "name": "ipython",
    "version": 3
   },
   "file_extension": ".py",
   "mimetype": "text/x-python",
   "name": "python",
   "nbconvert_exporter": "python",
   "pygments_lexer": "ipython3",
   "version": "3.9.13"
  }
 },
 "nbformat": 4,
 "nbformat_minor": 5
}
